{
 "cells": [
  {
   "cell_type": "markdown",
   "metadata": {},
   "source": [
    "# Mathematics Review\n",
    "---\n",
    "Mathematics and computer science are deeply connected. Once you get beyond the surface of computer science, a strong background in topics such as analysis, calculus, probability, etc. will take you a long way.\n",
    "\n",
    "In this course we use asymptotic analysis as means to compare algorithms; to say that algorithm A is \"better\" than algorithm B. This will require us to use functions (e.g. $y=f(x)$) which in turn will require us to use properties of certain functions and operations defined on them."
   ]
  },
  {
   "cell_type": "markdown",
   "metadata": {},
   "source": [
    "## Functions\n",
    "---\n",
    "A **function** $f:X \\rightarrow Y$ is a mapping between two sets $X$ and $Y$. \n",
    "Given an element $x$ in $X$ (written $x \\in X$), $f$ maps $x$ to an element in $Y$ (denoted as $f(x) \\in Y$.) \n",
    "\n",
    "The sets $X$ and $Y$ are called the **domain** and **codomain** of $f$. For our purposes we will understand the domain to be the set of natural numbers $\\mathcal{N} = {0, 1, 2, \\ldots}$ and the codomain the set of all real positive numbers $\\mathcal{R}^{+}$.\n",
    "As an example $f$ may be the time it requires a particular algorithm to terminate upon being called. The domain would be the size of the input that is passed to the algorithm, and the codomain is the time it takes the algorithm to terminate given this instance size. "
   ]
  },
  {
   "cell_type": "markdown",
   "metadata": {},
   "source": [
    "## Mathematical Logic\n",
    "---\n",
    "Mathematical objects (statements, definitions) must be well-defined. Various logic frameworks are used throught mathematics, yet only a small portion of it is used at the undergraduate level.\n",
    "In this course we use the following when we analysis algorithms that work along side our data structures. \n",
    "\n",
    "### Universal and Existential Quantification\n",
    "We will use the **universal quantifier** $\\forall$ and **existential quantifier** $\\exists$ in definitons. Each are followed by a **predicat variable**, where the former says a relation holds for all values the variable may take on, and where the latter says a relation only needs to hold of at least one value may take on. \n",
    "\n",
    "Both symbols are typically used together for a relation. For example, consider the true statement  \n",
    "\"For all integers $x$, there exists a real number $y$ such that $x + y = 0$.\"\n",
    "\n",
    "Here the relation is $x+y=0$. We can express this statement using our quantifiers as:  \n",
    "$$\n",
    "\\forall x \\in \\mathcal{Z}, \\exists y \\in \\mathcal{R} \\colon x + y = 0\n",
    "$$\n",
    "where $\\mathcal{Z}$ denotes the set of all integers and the colon `:` (sometimes a vertical bar `|`) denotes \"such that\" (specifies the relation.)\n",
    "\n",
    "The above statement is true as for any $x \\in \\mathcal{Z}$, there exists a $y \\in \\mathcal{R}$ to satisfy the relation. In fact, such a $y$ is unique, and so we could have the statement:   \n",
    "\"For all integers $x$, there exists a **unique** real number $y$ such that $x + y = 0$.\"  \n",
    "We denote this uniqueness by using an explanation mark with the existential quantifier:   \n",
    "$$\n",
    "\\forall x \\in \\mathcal{Z}, \\exists! y \\in \\mathcal{R} \\colon x + y = 0\n",
    "$$"
   ]
  },
  {
   "cell_type": "markdown",
   "metadata": {},
   "source": []
  }
 ],
 "metadata": {
  "kernelspec": {
   "display_name": "Python 3",
   "language": "python",
   "name": "python3"
  },
  "language_info": {
   "codemirror_mode": {
    "name": "ipython",
    "version": 3
   },
   "file_extension": ".py",
   "mimetype": "text/x-python",
   "name": "python",
   "nbconvert_exporter": "python",
   "pygments_lexer": "ipython3",
   "version": "3.7.3"
  }
 },
 "nbformat": 4,
 "nbformat_minor": 2
}
